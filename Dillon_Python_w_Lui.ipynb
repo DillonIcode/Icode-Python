{
  "cells": [
    {
      "cell_type": "markdown",
      "source": [
        "# Notes From Lui"
      ],
      "metadata": {
        "id": "jOaNlq35y-E7"
      }
    },
    {
      "cell_type": "code",
      "source": [],
      "metadata": {
        "id": "zWKoxkIAzADI"
      },
      "execution_count": null,
      "outputs": []
    },
    {
      "cell_type": "markdown",
      "metadata": {
        "id": "1hARtJJuu4ag"
      },
      "source": [
        "# 7.6.7: find (12/10/2022)"
      ]
    },
    {
      "cell_type": "markdown",
      "metadata": {
        "id": "3X-5Cp-MuIso"
      },
      "source": [
        "This program uses the find method which returns the first index at which a particular string is found within a string, or -1 if it is not found.\n",
        "\n",
        "\n",
        "\n",
        "\n",
        "\n"
      ]
    },
    {
      "cell_type": "code",
      "execution_count": null,
      "metadata": {
        "colab": {
          "base_uri": "https://localhost:8080/"
        },
        "id": "FttQX-Nrt3in",
        "outputId": "add6328b-6d78-4c18-f62a-9456d3b3061a"
      },
      "outputs": [
        {
          "output_type": "stream",
          "name": "stdout",
          "text": [
            "abra kadabra alakazam\n",
            "0\n",
            "5\n",
            "-1\n"
          ]
        }
      ],
      "source": [
        "\"\"\"\n",
        "This program uses the find method which returns the first index at which\n",
        "a particular string is found within a string, or -1 if it is not found.\n",
        "\"\"\"\n",
        "\n",
        "s = \"abra kadabra alakazam\"\n",
        "print(s)\n",
        "print(s.find(\"a\"))\n",
        "print(s.find(\"kadabra\"))\n",
        "print(s.find(\"q\"))"
      ]
    },
    {
      "cell_type": "markdown",
      "source": [
        "Dillon: I have completed this exercise with no error."
      ],
      "metadata": {
        "id": "1Ld-PPF82ZhR"
      }
    },
    {
      "cell_type": "code",
      "source": [],
      "metadata": {
        "id": "SKcB6wTE0PNm"
      },
      "execution_count": null,
      "outputs": []
    },
    {
      "cell_type": "markdown",
      "metadata": {
        "id": "aHSg8zPKN3Vl"
      },
      "source": [
        "# 8.1.7: Fix This Tuple (2, 11/2022)"
      ]
    },
    {
      "cell_type": "markdown",
      "metadata": {
        "id": "5nmuzBM5N3Vl"
      },
      "source": [
        "In this exercise, you are given the following tuple:\n",
        "```\n",
        "my_tuple = (0, 1, 2, \"hi\", 4, 5)\n",
        "```\n",
        "Make it so that it instead holds:\n",
        "```\n",
        "(0, 1, 2, 3, 4, 5)\n",
        "```\n",
        "Remember that you cannot change a tuple, so this will not work:\n",
        "```\n",
        "# Error!\n",
        "my_tuple[3] = 3\n",
        "```\n",
        "You also shouldn’t just do something like this:\n",
        "```\n",
        "# Incorrect! Too easy!\n",
        "my_tuple = (0, 1, 2, 3, 4, 5)\n",
        "```\n",
        "Instead, use slices of the old tuple, and concatenate them with the element you want to add. Note that you should not just add the integer 3, but rather the tuple (3,).\n",
        "\n",
        "\n"
      ]
    },
    {
      "cell_type": "code",
      "execution_count": null,
      "metadata": {
        "colab": {
          "base_uri": "https://localhost:8080/"
        },
        "outputId": "126c1182-90e6-4c2c-fa47-95fd29d658a2",
        "id": "gmsbG_jgN3Vm"
      },
      "outputs": [
        {
          "output_type": "stream",
          "name": "stdout",
          "text": [
            "(0, 1, 2, 4, 5)\n"
          ]
        }
      ],
      "source": [
        "my_tuple = (0, 1, 2, \"hi\", 4, 5)\n",
        "\n",
        "my_tuple = my_tuple[:3]+my_tuple[4:]\n",
        "print(my_tuple)\n",
        "\n",
        "\n"
      ]
    },
    {
      "cell_type": "markdown",
      "source": [
        "Dillon: I have an error: You should print out the final tuple"
      ],
      "metadata": {
        "id": "6m9pYOpGN3Vm"
      }
    },
    {
      "cell_type": "code",
      "source": [],
      "metadata": {
        "id": "cspDZkGjN3Vm"
      },
      "execution_count": null,
      "outputs": []
    },
    {
      "cell_type": "markdown",
      "metadata": {
        "id": "uTGItuZWO5FW"
      },
      "source": [
        "#8.1.10: Coordinate Pairs (9/11/2022)"
      ]
    },
    {
      "cell_type": "markdown",
      "metadata": {
        "id": "J2nO-jecO5Ff"
      },
      "source": [
        "Complete the function provided. It should take two arguments, each of which is a tuple with two elements. It should treat these tuples like points in a 2d coordinate plane. It should return the distance between them using the Pythagorean Theorem:\n",
        "\n",
        "1. Square the difference between the x values.\n",
        "2. Square the difference between the y values.\n",
        "3. Add the two squares.\n",
        "4. Take the square root of the result.\n",
        "\n",
        "In order to compute the square root of something, you need to use the sqrt function. This function belongs to a module in Python called math. The first line of the code provided imports this module, so that you can use the functions in it. To take the square root of a number, simply do something like the following:\n",
        "```\n",
        "number = ...\n",
        "result = math.sqrt(number)\n",
        "```\n",
        "You can also use the built-in Python function pow to take the square of a number, like this:\n",
        "```\n",
        "number = ...\n",
        "square = pow(number, 2)\n",
        "```"
      ]
    },
    {
      "cell_type": "code",
      "execution_count": null,
      "metadata": {
        "colab": {
          "base_uri": "https://localhost:8080/"
        },
        "outputId": "2757cd45-f65a-447d-ea9d-4086b04127cf",
        "id": "YHlvS0IkO5Ff"
      },
      "outputs": [
        {
          "output_type": "stream",
          "name": "stdout",
          "text": [
            "5.0\n"
          ]
        }
      ],
      "source": [
        "import math\n",
        "\n",
        "def distance(first_point, second_point):\n",
        "    square_x = pow(second_point[0]-first_point[0], 2)\n",
        "    square_y = pow(second_point[1]-first_point[1], 2)\n",
        "\n",
        "    return(math.sqrt(square_x+square_y))\n",
        "    \n",
        "# This should print 5.0\n",
        "print(distance((1, 1), (4, 5)))"
      ]
    },
    {
      "cell_type": "markdown",
      "source": [
        "Dillon: I have completed this exercise with no error."
      ],
      "metadata": {
        "id": "4Tv6N4VAO5Fg"
      }
    },
    {
      "cell_type": "code",
      "source": [],
      "metadata": {
        "id": "T3ncdt-gO5Fg"
      },
      "execution_count": null,
      "outputs": []
    }
  ],
  "metadata": {
    "colab": {
      "provenance": []
    },
    "kernelspec": {
      "display_name": "Python 3",
      "name": "python3"
    },
    "language_info": {
      "name": "python"
    }
  },
  "nbformat": 4,
  "nbformat_minor": 0
}